{
 "cells": [
  {
   "cell_type": "code",
   "execution_count": 1,
   "id": "0c1051de-7770-4372-b3d7-3ca6ef12b740",
   "metadata": {},
   "outputs": [],
   "source": [
    "%load_ext autoreload\n",
    "# reloads the file constantly so you don't need to reset\n",
    "%autoreload 2 "
   ]
  },
  {
   "cell_type": "code",
   "execution_count": 2,
   "id": "c6b73e5e-84aa-46a8-9405-2886c22ea93b",
   "metadata": {},
   "outputs": [],
   "source": [
    "%reload_ext autoreload"
   ]
  },
  {
   "cell_type": "code",
   "execution_count": 3,
   "id": "89b40f23-7078-4b53-b8e6-553e00326f09",
   "metadata": {},
   "outputs": [],
   "source": [
    "# import the libraries\n",
    "from align import (\n",
    "    NeedlemanWunsch,\n",
    "    read_fasta)\n",
    "import numpy as np\n",
    "from typing import Tuple"
   ]
  },
  {
   "cell_type": "code",
   "execution_count": 4,
   "id": "4273cb71-65c8-4590-95d5-2d2022263aee",
   "metadata": {},
   "outputs": [
    {
     "data": {
      "text/plain": [
       "array([[0., 0., 0.],\n",
       "       [0., 0., 0.],\n",
       "       [0., 0., 0.],\n",
       "       [0., 0., 0.]])"
      ]
     },
     "execution_count": 4,
     "metadata": {},
     "output_type": "execute_result"
    }
   ],
   "source": [
    "scores = np.zeros([(3 + 1), (2 + 1)])\n",
    "scores"
   ]
  },
  {
   "cell_type": "code",
   "execution_count": 5,
   "id": "d8d3c1a2-c924-4374-8914-78f0ef18fb57",
   "metadata": {},
   "outputs": [
    {
     "data": {
      "text/plain": [
       "array([ 0.,  0.,  0.,  0., -1.,  0.,  0., -2.,  0.,  0., -3.,  0.,  0.])"
      ]
     },
     "execution_count": 5,
     "metadata": {},
     "output_type": "execute_result"
    }
   ],
   "source": [
    "scores[:, 0] = [-1 * i for i in range(0, 3 + 1)]\n",
    "scores = np.insert(scores, [0][0], 0)\n",
    "scores"
   ]
  },
  {
   "cell_type": "code",
   "execution_count": 6,
   "id": "df68ee56-a012-443b-a5af-04442812b16f",
   "metadata": {},
   "outputs": [
    {
     "data": {
      "text/plain": [
       "('MYQR', 'MQR')"
      ]
     },
     "execution_count": 6,
     "metadata": {},
     "output_type": "execute_result"
    }
   ],
   "source": [
    "seq1, _ = read_fasta(\"./data/test_seq1.fa\")\n",
    "seq2, _ = read_fasta(\"./data/test_seq2.fa\")\n",
    "seq1, seq2\n"
   ]
  },
  {
   "cell_type": "code",
   "execution_count": 7,
   "id": "03d891e7-1818-48ad-8a4b-fc7f23708e32",
   "metadata": {},
   "outputs": [
    {
     "data": {
      "text/plain": [
       "('MAVHQLIRRP', 'MQLIRHP')"
      ]
     },
     "execution_count": 7,
     "metadata": {},
     "output_type": "execute_result"
    }
   ],
   "source": [
    "seq3, _ = read_fasta(\"./data/test_seq3.fa\")\n",
    "seq4, _ = read_fasta(\"./data/test_seq4.fa\")\n",
    "seq3, seq4"
   ]
  },
  {
   "cell_type": "code",
   "execution_count": 8,
   "id": "b67e9fb9-c368-4533-a2a7-7602500b1000",
   "metadata": {},
   "outputs": [
    {
     "data": {
      "text/plain": [
       "5.0"
      ]
     },
     "execution_count": 8,
     "metadata": {},
     "output_type": "execute_result"
    }
   ],
   "source": [
    "N_W = NeedlemanWunsch(sub_matrix_file = \"./substitution_matrices/BLOSUM62.mat\", gap_open = -10, gap_extend = -1)\n",
    "if ('M', 'M') in N_W.sub_dict:\n",
    "    # get the score for the two values, return error if not a match/mismatch\n",
    "    score = (N_W.sub_dict.get(('Q', 'Q'), 'NO VALUE'))\n",
    "    \n",
    "score"
   ]
  },
  {
   "cell_type": "code",
   "execution_count": 9,
   "id": "40f4f9d6-dd84-40b3-868d-a5c917a79cc2",
   "metadata": {},
   "outputs": [
    {
     "name": "stdout",
     "output_type": "stream",
     "text": [
      "[[  0. -10. -11. -12. -13.]\n",
      " [-10.   5.  -5. -11. -13.]\n",
      " [-11.  -5.   4.   0. -10.]\n",
      " [-12. -12.  -6.   5.   5.]]\n",
      "[[0. 0. 0. 0. 0.]\n",
      " [0. 3. 2. 3. 3.]\n",
      " [0. 1. 3. 3. 2.]\n",
      " [0. 3. 1. 3. 3.]]\n",
      "3 4\n",
      "Q\n",
      "2 3\n",
      "Y\n",
      "1 2\n",
      "1 1\n",
      "M\n",
      "(5.0, 'MQQR', 'M-QR')\n"
     ]
    }
   ],
   "source": [
    "print(N_W.align(seq1, seq2))"
   ]
  },
  {
   "cell_type": "code",
   "execution_count": 10,
   "id": "4a677bbf-64c2-456a-881f-e85a0e1b012f",
   "metadata": {},
   "outputs": [
    {
     "name": "stdout",
     "output_type": "stream",
     "text": [
      "[[  0. -10. -11. -12. -13. -14. -15. -16. -17. -18. -19.]\n",
      " [-10.   5.  -5. -10. -14. -13. -12. -14. -17. -18. -20.]\n",
      " [-11.  -5.   4.  -6. -10.  -9. -15. -15. -13. -16. -19.]\n",
      " [-12.  -9.  -6.   5.  -5. -12.  -5. -13. -17. -15. -19.]\n",
      " [-13. -11. -10.  -3.   2.  -8. -10.  -1. -11. -20. -18.]\n",
      " [-14. -14. -12. -13.  -3.   3.  -7. -11.   4.  -6. -16.]\n",
      " [-15. -16. -16. -15.  -5.  -3.   0. -10.  -6.   4.  -6.]\n",
      " [-16. -17. -17. -18. -15.  -6.  -6.  -3. -12.  -6.  11.]]\n",
      "[[0. 0. 0. 0. 0. 0. 0. 0. 0. 0. 0.]\n",
      " [0. 3. 2. 3. 3. 3. 3. 3. 3. 3. 3.]\n",
      " [0. 1. 3. 2. 3. 3. 3. 3. 3. 3. 3.]\n",
      " [0. 3. 1. 3. 2. 3. 3. 3. 3. 3. 3.]\n",
      " [0. 3. 3. 3. 3. 2. 3. 3. 2. 3. 3.]\n",
      " [0. 3. 3. 1. 3. 3. 2. 1. 3. 2. 2.]\n",
      " [0. 3. 3. 3. 3. 3. 3. 2. 1. 3. 2.]\n",
      " [0. 3. 3. 3. 1. 3. 3. 3. 3. 1. 3.]]\n",
      "7 10\n",
      "I\n",
      "6 9\n",
      "L\n",
      "5 8\n",
      "Q\n",
      "4 7\n",
      "H\n",
      "3 6\n",
      "V\n",
      "2 5\n",
      "A\n",
      "1 4\n",
      "M\n"
     ]
    },
    {
     "data": {
      "text/plain": [
       "(23.0, 'HQLIRRP', 'MQLIRHP')"
      ]
     },
     "execution_count": 10,
     "metadata": {},
     "output_type": "execute_result"
    }
   ],
   "source": [
    "N_W.align(seq3, seq4)"
   ]
  },
  {
   "cell_type": "code",
   "execution_count": 11,
   "id": "7893319c-f091-424e-8dbe-16129d04bf64",
   "metadata": {},
   "outputs": [
    {
     "name": "stdout",
     "output_type": "stream",
     "text": [
      "[[  0. -10. -11. -12. -13. -14. -15. -16. -17. -18. -19. -20. -21.]\n",
      " [-10. -10. -20. -21. -22. -23. -24. -25. -26. -27. -28. -29. -30.]\n",
      " [-11. -20. -20. -15. -24. -24. -18. -28. -26. -26. -28. -23. -33.]\n",
      " [-12. -21. -30. -23.  -9. -19. -27. -28. -29. -28. -29. -31. -33.]\n",
      " [-13. -22. -31. -31. -19. -10. -20. -30. -29. -29. -22. -30. -40.]\n",
      " [-14. -23. -32. -32. -29. -20. -11. -21. -22. -30. -30. -23. -33.]\n",
      " [-15. -24. -33. -42. -39. -30. -21. -21. -31. -32. -40. -33. -33.]\n",
      " [-16. -25. -34. -28. -38. -40. -25. -31. -22. -31. -33. -35. -43.]\n",
      " [-17. -26. -35. -34. -30. -38. -35. -35. -32. -18. -28. -33. -43.]\n",
      " [-18. -27. -36. -38. -28. -33. -41. -45. -36. -28. -21. -31. -41.]\n",
      " [-19. -28. -37. -37. -38. -29. -34. -44. -46. -36. -22. -22. -32.]]\n",
      "[[0. 0. 0. 0. 0. 0. 0. 0. 0. 0. 0. 0. 0.]\n",
      " [0. 3. 2. 3. 3. 3. 3. 3. 3. 3. 3. 3. 3.]\n",
      " [0. 1. 3. 3. 3. 3. 3. 2. 3. 3. 3. 3. 2.]\n",
      " [0. 3. 1. 3. 3. 2. 3. 3. 3. 3. 3. 3. 3.]\n",
      " [0. 3. 3. 3. 1. 3. 2. 2. 3. 3. 3. 3. 2.]\n",
      " [0. 3. 3. 3. 1. 1. 3. 2. 3. 3. 3. 3. 2.]\n",
      " [0. 3. 3. 1. 1. 1. 1. 3. 2. 3. 1. 1. 3.]\n",
      " [0. 3. 3. 3. 2. 1. 3. 1. 3. 3. 3. 3. 1.]\n",
      " [0. 3. 3. 3. 3. 3. 1. 3. 1. 3. 2. 3. 2.]\n",
      " [0. 3. 3. 3. 3. 3. 3. 1. 3. 1. 3. 2. 2.]\n",
      " [0. 3. 3. 3. 1. 3. 3. 2. 1. 3. 3. 3. 2.]]\n",
      "10 12\n"
     ]
    },
    {
     "ename": "IndexError",
     "evalue": "string index out of range",
     "output_type": "error",
     "traceback": [
      "\u001b[0;31m---------------------------------------------------------------------------\u001b[0m",
      "\u001b[0;31mIndexError\u001b[0m                                Traceback (most recent call last)",
      "Cell \u001b[0;32mIn[11], line 1\u001b[0m\n\u001b[0;32m----> 1\u001b[0m \u001b[43mN_W\u001b[49m\u001b[38;5;241;43m.\u001b[39;49m\u001b[43malign\u001b[49m\u001b[43m(\u001b[49m\u001b[38;5;124;43m'\u001b[39;49m\u001b[38;5;124;43mJJKFGKJHSDKJ\u001b[39;49m\u001b[38;5;124;43m'\u001b[39;49m\u001b[43m,\u001b[49m\u001b[43m \u001b[49m\u001b[38;5;124;43m'\u001b[39;49m\u001b[38;5;124;43mJKFDHJKSFD\u001b[39;49m\u001b[38;5;124;43m'\u001b[39;49m\u001b[43m)\u001b[49m\n",
      "File \u001b[0;32m~/Library/CloudStorage/OneDrive-NortheasternUniversity/UCSF/Classes/Quarter2/BMI203_Algorithms/HW5-NW/align/align.py:199\u001b[0m, in \u001b[0;36mNeedlemanWunsch.align\u001b[0;34m(self, seqA, seqB)\u001b[0m\n\u001b[1;32m    196\u001b[0m \u001b[38;5;28mprint\u001b[39m(\u001b[38;5;28mself\u001b[39m\u001b[38;5;241m.\u001b[39mscore_matrix)\n\u001b[1;32m    197\u001b[0m \u001b[38;5;28mprint\u001b[39m(direction_matrix)\n\u001b[0;32m--> 199\u001b[0m \u001b[38;5;28;01mreturn\u001b[39;00m \u001b[38;5;28;43mself\u001b[39;49m\u001b[38;5;241;43m.\u001b[39;49m\u001b[43m_backtrace\u001b[49m\u001b[43m(\u001b[49m\u001b[43m)\u001b[49m\n",
      "File \u001b[0;32m~/Library/CloudStorage/OneDrive-NortheasternUniversity/UCSF/Classes/Quarter2/BMI203_Algorithms/HW5-NW/align/align.py:250\u001b[0m, in \u001b[0;36mNeedlemanWunsch._backtrace\u001b[0;34m(self)\u001b[0m\n\u001b[1;32m    248\u001b[0m         \u001b[38;5;66;03m# top is a gap, add a gap to the second sequence\u001b[39;00m\n\u001b[1;32m    249\u001b[0m         \u001b[38;5;28mself\u001b[39m\u001b[38;5;241m.\u001b[39mseqB_align \u001b[38;5;241m+\u001b[39m\u001b[38;5;241m=\u001b[39m \u001b[38;5;124m'\u001b[39m\u001b[38;5;124m-\u001b[39m\u001b[38;5;124m'\u001b[39m\n\u001b[0;32m--> 250\u001b[0m         \u001b[38;5;28mself\u001b[39m\u001b[38;5;241m.\u001b[39mseqA_align \u001b[38;5;241m+\u001b[39m\u001b[38;5;241m=\u001b[39m \u001b[38;5;28;43mself\u001b[39;49m\u001b[38;5;241;43m.\u001b[39;49m\u001b[43m_seqA\u001b[49m\u001b[43m[\u001b[49m\u001b[43mj\u001b[49m\u001b[43m \u001b[49m\u001b[38;5;241;43m+\u001b[39;49m\u001b[43m \u001b[49m\u001b[38;5;241;43m1\u001b[39;49m\u001b[43m]\u001b[49m\n\u001b[1;32m    251\u001b[0m         scoring_guide\u001b[38;5;241m.\u001b[39mappend(direction)\n\u001b[1;32m    253\u001b[0m \u001b[38;5;66;03m# Finish tracing up to the top left cell\u001b[39;00m\n",
      "\u001b[0;31mIndexError\u001b[0m: string index out of range"
     ]
    }
   ],
   "source": [
    "N_W.align('JJKFGKJHSDKJ', 'JKFDHJKSFD')"
   ]
  },
  {
   "cell_type": "code",
   "execution_count": null,
   "id": "d794c1b4-ffd2-40ad-8958-38ec1fffc0f4",
   "metadata": {},
   "outputs": [],
   "source": []
  },
  {
   "cell_type": "code",
   "execution_count": null,
   "id": "3fc12f91-a80d-4842-8ac6-7bf73dc35b6c",
   "metadata": {},
   "outputs": [],
   "source": []
  }
 ],
 "metadata": {
  "kernelspec": {
   "display_name": "Python 3 (ipykernel)",
   "language": "python",
   "name": "python3"
  },
  "language_info": {
   "codemirror_mode": {
    "name": "ipython",
    "version": 3
   },
   "file_extension": ".py",
   "mimetype": "text/x-python",
   "name": "python",
   "nbconvert_exporter": "python",
   "pygments_lexer": "ipython3",
   "version": "3.9.7"
  }
 },
 "nbformat": 4,
 "nbformat_minor": 5
}
