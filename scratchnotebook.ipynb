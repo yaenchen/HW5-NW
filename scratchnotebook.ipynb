{
 "cells": [
  {
   "cell_type": "code",
   "execution_count": 1,
   "id": "0c1051de-7770-4372-b3d7-3ca6ef12b740",
   "metadata": {},
   "outputs": [],
   "source": [
    "%load_ext autoreload\n",
    "# reloads the file constantly so you don't need to reset\n",
    "%autoreload 2 "
   ]
  },
  {
   "cell_type": "code",
   "execution_count": 2,
   "id": "c6b73e5e-84aa-46a8-9405-2886c22ea93b",
   "metadata": {},
   "outputs": [],
   "source": [
    "%reload_ext autoreload"
   ]
  },
  {
   "cell_type": "code",
   "execution_count": 3,
   "id": "89b40f23-7078-4b53-b8e6-553e00326f09",
   "metadata": {},
   "outputs": [],
   "source": [
    "# import the libraries\n",
    "from align import (\n",
    "    NeedlemanWunsch,\n",
    "    read_fasta)\n",
    "import numpy as np\n",
    "from typing import Tuple"
   ]
  },
  {
   "cell_type": "code",
   "execution_count": 4,
   "id": "4273cb71-65c8-4590-95d5-2d2022263aee",
   "metadata": {},
   "outputs": [
    {
     "data": {
      "text/plain": [
       "array([[0., 0., 0.],\n",
       "       [0., 0., 0.],\n",
       "       [0., 0., 0.],\n",
       "       [0., 0., 0.]])"
      ]
     },
     "execution_count": 4,
     "metadata": {},
     "output_type": "execute_result"
    }
   ],
   "source": [
    "scores = np.zeros([(3 + 1), (2 + 1)])\n",
    "scores"
   ]
  },
  {
   "cell_type": "code",
   "execution_count": 5,
   "id": "d8d3c1a2-c924-4374-8914-78f0ef18fb57",
   "metadata": {},
   "outputs": [
    {
     "data": {
      "text/plain": [
       "array([ 0.,  0.,  0.,  0., -1.,  0.,  0., -2.,  0.,  0., -3.,  0.,  0.])"
      ]
     },
     "execution_count": 5,
     "metadata": {},
     "output_type": "execute_result"
    }
   ],
   "source": [
    "scores[:, 0] = [-1 * i for i in range(0, 3 + 1)]\n",
    "scores = np.insert(scores, [0][0], 0)\n",
    "scores"
   ]
  },
  {
   "cell_type": "code",
   "execution_count": 6,
   "id": "df68ee56-a012-443b-a5af-04442812b16f",
   "metadata": {},
   "outputs": [
    {
     "data": {
      "text/plain": [
       "('MYQR', 'MQR')"
      ]
     },
     "execution_count": 6,
     "metadata": {},
     "output_type": "execute_result"
    }
   ],
   "source": [
    "seq1, _ = read_fasta(\"./data/test_seq1.fa\")\n",
    "seq2, _ = read_fasta(\"./data/test_seq2.fa\")\n",
    "seq1, seq2\n"
   ]
  },
  {
   "cell_type": "code",
   "execution_count": 7,
   "id": "03d891e7-1818-48ad-8a4b-fc7f23708e32",
   "metadata": {},
   "outputs": [
    {
     "data": {
      "text/plain": [
       "('MAVHQLIRRP', 'MQLIRHP')"
      ]
     },
     "execution_count": 7,
     "metadata": {},
     "output_type": "execute_result"
    }
   ],
   "source": [
    "seq3, _ = read_fasta(\"./data/test_seq3.fa\")\n",
    "seq4, _ = read_fasta(\"./data/test_seq4.fa\")\n",
    "seq3, seq4"
   ]
  },
  {
   "cell_type": "code",
   "execution_count": 8,
   "id": "b67e9fb9-c368-4533-a2a7-7602500b1000",
   "metadata": {},
   "outputs": [
    {
     "data": {
      "text/plain": [
       "5.0"
      ]
     },
     "execution_count": 8,
     "metadata": {},
     "output_type": "execute_result"
    }
   ],
   "source": [
    "N_W = NeedlemanWunsch(sub_matrix_file = \"./substitution_matrices/BLOSUM62.mat\", gap_open = -10, gap_extend = -1)\n",
    "if ('M', 'M') in N_W.sub_dict:\n",
    "    # get the score for the two values, return error if not a match/mismatch\n",
    "    score = (N_W.sub_dict.get(('Q', 'Q'), 'NO VALUE'))\n",
    "    \n",
    "score"
   ]
  },
  {
   "cell_type": "code",
   "execution_count": 9,
   "id": "40f4f9d6-dd84-40b3-868d-a5c917a79cc2",
   "metadata": {},
   "outputs": [
    {
     "name": "stdout",
     "output_type": "stream",
     "text": [
      "[[  0. -10. -11. -12. -13.]\n",
      " [-10.   5. -11. -11. -13.]\n",
      " [-11. -10.   4.  -1.  -6.]\n",
      " [-12. -12.  -8.   5.   4.]]\n"
     ]
    },
    {
     "data": {
      "text/plain": [
       "(4.0, 'MYQR', 'M-QR')"
      ]
     },
     "execution_count": 9,
     "metadata": {},
     "output_type": "execute_result"
    }
   ],
   "source": [
    "N_W.align(seq1, seq2)"
   ]
  },
  {
   "cell_type": "code",
   "execution_count": 10,
   "id": "4a677bbf-64c2-456a-881f-e85a0e1b012f",
   "metadata": {},
   "outputs": [
    {
     "name": "stdout",
     "output_type": "stream",
     "text": [
      "[[  0. -10. -11. -12. -13. -14. -15. -16. -17. -18. -19.]\n",
      " [-10.   5. -11. -10. -14. -13. -12. -14. -17. -18. -20.]\n",
      " [-11. -10.   4.  -8.  -7.  -3. -11. -13. -10. -11. -14.]\n",
      " [-12.  -9.  -7.   5. -10.  -9.   1.  -8. -13. -12. -14.]\n",
      " [-13. -11.  -8.  -4.   2.  -9.  -5.   5. -11. -13. -14.]\n",
      " [-14. -14.  -9. -11.  -4.   3. -11.  -8.  10.  -1.  -9.]\n",
      " [-15. -16. -11. -12.   1.  -4.   0. -11.  -6.  10.  -3.]\n",
      " [-16. -17. -11. -12. -10.   0.  -7.  -3.  -9.  -3.  17.]]\n"
     ]
    },
    {
     "data": {
      "text/plain": [
       "(17.0, 'MAVHQLIRRP', 'M---QLIRHP')"
      ]
     },
     "execution_count": 10,
     "metadata": {},
     "output_type": "execute_result"
    }
   ],
   "source": [
    "N_W.align(seq3, seq4)"
   ]
  },
  {
   "cell_type": "code",
   "execution_count": null,
   "id": "d794c1b4-ffd2-40ad-8958-38ec1fffc0f4",
   "metadata": {},
   "outputs": [],
   "source": []
  },
  {
   "cell_type": "code",
   "execution_count": null,
   "id": "3fc12f91-a80d-4842-8ac6-7bf73dc35b6c",
   "metadata": {},
   "outputs": [],
   "source": []
  }
 ],
 "metadata": {
  "kernelspec": {
   "display_name": "Python 3 (ipykernel)",
   "language": "python",
   "name": "python3"
  },
  "language_info": {
   "codemirror_mode": {
    "name": "ipython",
    "version": 3
   },
   "file_extension": ".py",
   "mimetype": "text/x-python",
   "name": "python",
   "nbconvert_exporter": "python",
   "pygments_lexer": "ipython3",
   "version": "3.9.7"
  }
 },
 "nbformat": 4,
 "nbformat_minor": 5
}
